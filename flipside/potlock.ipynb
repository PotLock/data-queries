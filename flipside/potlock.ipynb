{
  "nbformat": 4,
  "nbformat_minor": 0,
  "metadata": {
    "colab": {
      "provenance": []
    },
    "kernelspec": {
      "name": "python3",
      "display_name": "Python 3"
    },
    "language_info": {
      "name": "python"
    }
  },
  "cells": [
    {
      "cell_type": "code",
      "execution_count": null,
      "metadata": {
        "id": "_kxnhRmZ976t"
      },
      "outputs": [],
      "source": [
        "pip install flipside"
      ]
    },
    {
      "cell_type": "code",
      "source": [
        "from flipside import Flipside\n",
        "flipside = Flipside(\"d473fc3c-38f6-4208-9ed4-8a954cb75d6d\", \"https://api-v2.flipsidecrypto.xyz\") #you may place your own API keys in the first section"
      ],
      "metadata": {
        "id": "NYRMaUv8996b"
      },
      "execution_count": null,
      "outputs": []
    },
    {
      "cell_type": "code",
      "source": [
        "sql = \"\"\"\n",
        "SELECT\n",
        "  date_trunc('hour', block_timestamp) as hour,\n",
        "  count(distinct tx_hash) as tx_count\n",
        "FROM ethereum.core.fact_transactions\n",
        "WHERE block_timestamp >= GETDATE() - interval'7 days'\n",
        "GROUP BY 1\n",
        "\"\"\"\n",
        "\n",
        "# Run the query against Flipside's query engine and await the results\n",
        "query_result_set = flipside.query(sql)"
      ],
      "metadata": {
        "id": "Ta3xmRhsNLQs"
      },
      "execution_count": null,
      "outputs": []
    },
    {
      "cell_type": "markdown",
      "source": [
        "### Number of type of checks:"
      ],
      "metadata": {
        "id": "9XGghKqIkEBE"
      }
    },
    {
      "cell_type": "code",
      "source": [
        "check_type_q = \"\"\"\n",
        "WITH txns as\n",
        "(select  distinct tx_hash, transaction_fee as tx_fee\n",
        " from near.core.fact_transactions b\n",
        "where (tx_receiver = 'v1.nadabot.near'\n",
        "  or   tx_signer = 'v1.nadabot.near'\n",
        "  and tx_succeeded = TRUE))\n",
        ",\n",
        "qmain as (\n",
        "select  block_timestamp,\n",
        "        ARGS,\n",
        "        b.tx_hash,\n",
        "        signer_id,\n",
        "        ACTION_NAME,\n",
        "        receiver_id,\n",
        "        method_name,\n",
        "        --args,\n",
        "        deposit  / 1e24 as deposit\n",
        " from near.core.fact_actions_events_function_call b, txns\n",
        "where b.tx_hash = txns.tx_hash\n",
        "),\n",
        "\n",
        "main as (\n",
        "SELECT\n",
        "    block_timestamp,\n",
        "    signer_id,\n",
        "    receiver_id,\n",
        "    method_name,\n",
        "    deposit,\n",
        "    SPLIT_PART(PARSE_JSON(ARGS):provider_id, ':', 1) AS contract_address,\n",
        "    SPLIT_PART(PARSE_JSON(ARGS):provider_id, ':', 2) AS check_type\n",
        "from qmain)\n",
        "\n",
        "\n",
        "select count(DISTINCT check_type) as check_type_count\n",
        "from main\n",
        "where check_type in (select DISTINCT check_type\n",
        "                     from main where method_name = 'add_stamp') and\n",
        "      check_type != 'has_complete_profile_check'\n",
        "\n",
        "\n",
        "\"\"\"\n",
        "query_result_set = flipside.query(check_type_q)\n",
        "query_result_set"
      ],
      "metadata": {
        "id": "BdNTy-A7kDkD"
      },
      "execution_count": null,
      "outputs": []
    },
    {
      "cell_type": "code",
      "source": [
        "import pandas as pd\n",
        "\n",
        "pd.DataFrame(query_result_set.records,columns = query_result_set.columns)"
      ],
      "metadata": {
        "id": "TQJhvAlNlhgn"
      },
      "execution_count": null,
      "outputs": []
    },
    {
      "cell_type": "markdown",
      "source": [
        "### Average checks per user"
      ],
      "metadata": {
        "id": "UKE-MFj9ku7a"
      }
    },
    {
      "cell_type": "code",
      "source": [
        "avg_check_per_user_q = \"\"\"\n",
        "WITH txns as\n",
        "(select  distinct tx_hash, transaction_fee as tx_fee\n",
        " from near.core.fact_transactions b\n",
        "where (tx_receiver = 'v1.nadabot.near'\n",
        "  or   tx_signer = 'v1.nadabot.near'\n",
        "  and tx_succeeded = TRUE))\n",
        ",\n",
        "qmain as (\n",
        "select  block_timestamp,\n",
        "        ARGS,\n",
        "        b.tx_hash,\n",
        "        signer_id,\n",
        "        ACTION_NAME,\n",
        "        receiver_id,\n",
        "        method_name,\n",
        "        --args,\n",
        "        deposit  / 1e24 as deposit\n",
        " from near.core.fact_actions_events_function_call b, txns\n",
        "where b.tx_hash = txns.tx_hash\n",
        "),\n",
        "\n",
        "main as (\n",
        "SELECT\n",
        "    block_timestamp,\n",
        "    signer_id,\n",
        "    receiver_id,\n",
        "    method_name,\n",
        "    deposit,\n",
        "    SPLIT_PART(PARSE_JSON(ARGS):provider_id, ':', 1) AS contract_address,\n",
        "    SPLIT_PART(PARSE_JSON(ARGS):provider_id, ':', 2) AS check_type\n",
        "from qmain),\n",
        "\n",
        "check_type_table as (\n",
        "select distinct check_type\n",
        "from main\n",
        "where check_type != 'has_complete_profile_check'),\n",
        "\n",
        "avg_count as (\n",
        "select signer_id, count(check_type) as checks_count\n",
        "from main\n",
        "where check_type in (select check_type from check_type_table) and method_name = 'verify_stamp_callback'\n",
        "group by signer_id\n",
        ")\n",
        "\n",
        "select avg(checks_count) from avg_count\n",
        "\n",
        "\"\"\"\n",
        "query_result_set = flipside.query(avg_check_per_user_q)"
      ],
      "metadata": {
        "id": "kzCfJTtQky0i"
      },
      "execution_count": null,
      "outputs": []
    },
    {
      "cell_type": "code",
      "source": [
        "pd.DataFrame(query_result_set.records,columns = query_result_set.columns)"
      ],
      "metadata": {
        "id": "vaaTemTsnWy5"
      },
      "execution_count": null,
      "outputs": []
    },
    {
      "cell_type": "markdown",
      "source": [
        "### weight count"
      ],
      "metadata": {
        "id": "xX-pnbZmlBLh"
      }
    },
    {
      "cell_type": "code",
      "source": [
        "weight_count_q = \"\"\"\n",
        "WITH txns as (\n",
        "  select\n",
        "    distinct tx_hash,\n",
        "    transaction_fee as tx_fee\n",
        "  from\n",
        "    near.core.fact_transactions b\n",
        "  where\n",
        "    (\n",
        "      tx_receiver = 'v1.nadabot.near'\n",
        "      or tx_signer = 'v1.nadabot.near'\n",
        "      and tx_succeeded = TRUE\n",
        "    )\n",
        "),\n",
        "qmain as (\n",
        "  select\n",
        "    block_timestamp,\n",
        "    ARGS,\n",
        "    b.tx_hash,\n",
        "    signer_id,\n",
        "    ACTION_NAME,\n",
        "    receiver_id,\n",
        "    method_name,\n",
        "    --args,\n",
        "    deposit / 1e24 as deposit\n",
        "  from\n",
        "    near.core.fact_actions_events_function_call b,\n",
        "    txns\n",
        "  where\n",
        "    b.tx_hash = txns.tx_hash\n",
        "),\n",
        "\n",
        "main as (\n",
        "  SELECT\n",
        "    block_timestamp,\n",
        "    signer_id,\n",
        "    receiver_id,\n",
        "    method_name,\n",
        "    deposit,\n",
        "    SPLIT_PART(PARSE_JSON(ARGS) :provider_id, ':', 1) AS contract_address,\n",
        "    SPLIT_PART(PARSE_JSON(ARGS) :provider_id, ':', 2) AS check_type,\n",
        "    COALESCE(TRY_PARSE_JSON(ARGS):provider.default_weight, 0)::INT AS weight\n",
        "  from\n",
        "    qmain\n",
        "  where receiver_id = 'v1.nadabot.near'\n",
        ")\n",
        "\n",
        "select signer_id,sum(weight) as total_weight\n",
        "from main\n",
        "where method_name = 'verify_stamp_callback'\n",
        "group by signer_id\n",
        "order by total_weight desc\n",
        "\n",
        "-- provider and users\n",
        "\n",
        "\"\"\"\n",
        "query_result_set = flipside.query(weight_count_q)\n",
        "query_result_set"
      ],
      "metadata": {
        "id": "y1-ud_ThlEFc"
      },
      "execution_count": null,
      "outputs": []
    },
    {
      "cell_type": "markdown",
      "source": [
        "### Weight threshold"
      ],
      "metadata": {
        "id": "XehovjitnYqK"
      }
    },
    {
      "cell_type": "code",
      "source": [
        "weight_threshold_q = \"\"\"\n",
        "WITH txns as (\n",
        "  select\n",
        "    distinct tx_hash,\n",
        "    transaction_fee as tx_fee\n",
        "  from\n",
        "    near.core.fact_transactions b\n",
        "  where\n",
        "    (\n",
        "      tx_receiver = 'v1.nadabot.near'\n",
        "      or tx_signer = 'v1.nadabot.near'\n",
        "      and tx_succeeded = TRUE\n",
        "    )\n",
        "),\n",
        "qmain as (\n",
        "  select\n",
        "    block_timestamp,\n",
        "    ARGS,\n",
        "    b.tx_hash,\n",
        "    signer_id,\n",
        "    ACTION_NAME,\n",
        "    receiver_id,\n",
        "    method_name,\n",
        "    --args,\n",
        "    deposit / 1e24 as deposit\n",
        "  from\n",
        "    near.core.fact_actions_events_function_call b,\n",
        "    txns\n",
        "  where\n",
        "    b.tx_hash = txns.tx_hash\n",
        "),\n",
        "\n",
        "main as (\n",
        "  SELECT\n",
        "    block_timestamp,\n",
        "    signer_id,\n",
        "    receiver_id,\n",
        "    method_name,\n",
        "    deposit,\n",
        "    SPLIT_PART(PARSE_JSON(ARGS) :provider_id, ':', 1) AS contract_address,\n",
        "    SPLIT_PART(PARSE_JSON(ARGS) :provider_id, ':', 2) AS check_type,\n",
        "    COALESCE(TRY_PARSE_JSON(ARGS):provider.default_weight, 0)::INT AS weight\n",
        "  from\n",
        "    qmain\n",
        "  where receiver_id = 'v1.nadabot.near'\n",
        "),\n",
        "\n",
        "temp as (\n",
        "  select signer_id,sum(weight) as total_weight\n",
        "  from main\n",
        "  where method_name = 'verify_stamp_callback'\n",
        "  group by signer_id\n",
        "  order by total_weight desc\n",
        "),\n",
        "\n",
        "threshold as (\n",
        "select TRY_PARSE_JSON(ARGS):default_human_threshold::INT as thresh\n",
        "from qmain\n",
        "where thresh is not null\n",
        "\n",
        ")\n",
        "\n",
        "select *\n",
        "from ( select count(*) as above\n",
        "       from temp\n",
        "       where total_weight >= (select thresh from threshold)) a,\n",
        "     (select avg(total_weight) as average_weight\n",
        "       from temp) b, threshold c\n",
        "\"\"\"\n",
        "query_result_set = flipside.query(weight_threshold_q)\n",
        "query_result_set"
      ],
      "metadata": {
        "id": "LwcERblJndGb"
      },
      "execution_count": null,
      "outputs": []
    },
    {
      "cell_type": "markdown",
      "source": [
        "### user check count"
      ],
      "metadata": {
        "id": "FM7LC1o_nlxb"
      }
    },
    {
      "cell_type": "code",
      "source": [
        "user_check_count_q = \"\"\"\n",
        "WITH txns as\n",
        "(select  distinct tx_hash, transaction_fee as tx_fee\n",
        " from near.core.fact_transactions b\n",
        "where (tx_receiver = 'v1.nadabot.near'\n",
        "  or   tx_signer = 'v1.nadabot.near'\n",
        "  and tx_succeeded = TRUE))\n",
        ",\n",
        "qmain as (\n",
        "select  block_timestamp,\n",
        "        ARGS,\n",
        "        b.tx_hash,\n",
        "        signer_id,\n",
        "        ACTION_NAME,\n",
        "        receiver_id,\n",
        "        method_name,\n",
        "        --args,\n",
        "        deposit  / 1e24 as deposit\n",
        " from near.core.fact_actions_events_function_call b, txns\n",
        "where b.tx_hash = txns.tx_hash\n",
        "),\n",
        "\n",
        "main as (\n",
        "SELECT\n",
        "    block_timestamp,\n",
        "    signer_id,\n",
        "    receiver_id,\n",
        "    method_name,\n",
        "    SPLIT_PART(PARSE_JSON(ARGS):provider_id, ':', 1) AS contract_address,\n",
        "    SPLIT_PART(PARSE_JSON(ARGS):provider_id, ':', 2) AS check_type\n",
        "from qmain),\n",
        "\n",
        "check_type_table as (\n",
        "select distinct check_type\n",
        "from main\n",
        "where check_type != 'has_complete_profile_check')\n",
        "\n",
        "select signer_id, count(method_name) as checks_count\n",
        "from main\n",
        "where check_type in (select check_type from check_type_table) and method_name = 'add_stamp'\n",
        "group by signer_id\n",
        "order by checks_count desc\n",
        "\n",
        "\"\"\"\n",
        "query_result_set = flipside.query(user_check_count_q)\n",
        "query_result_set"
      ],
      "metadata": {
        "id": "W644bx4vnqOL"
      },
      "execution_count": null,
      "outputs": []
    },
    {
      "cell_type": "markdown",
      "source": [
        "### deployed contracts"
      ],
      "metadata": {
        "id": "4016PRw6nxth"
      }
    },
    {
      "cell_type": "code",
      "source": [
        "deployed_contracts_q = \"\"\"\n",
        "WITH txns as\n",
        "(select  distinct tx_hash, transaction_fee as tx_fee\n",
        " from near.core.fact_transactions b\n",
        "where (tx_receiver = 'creatives.v1.potfactory.potlock.near'\n",
        "  or   tx_signer = 'creatives.v1.potfactory.potlock.near')\n",
        "  and tx_succeeded = TRUE),\n",
        "\n",
        "qmain as (\n",
        "select  block_timestamp,\n",
        "        b.tx_hash,\n",
        "        signer_id,\n",
        "        receiver_id,\n",
        "        method_name,\n",
        "        --args,\n",
        "        deposit  / 1e24 as deposit\n",
        " from near.core.fact_actions_events_function_call b, txns\n",
        "where b.tx_hash = txns.tx_hash\n",
        ")\n",
        "-- is_approved, apply/apply_for_assignment/apply_for_program\n",
        "-- number of applications\n",
        "select count(*)\n",
        "from qmain\n",
        "where method_name in ('is_approved','apply','apply_for_assignment','apply_for_program')\n",
        "\n",
        "\"\"\"\n",
        "query_result_set = flipside.query(deployed_contracts_q)\n",
        "query_result_set"
      ],
      "metadata": {
        "id": "24RxS81un06G"
      },
      "execution_count": null,
      "outputs": []
    },
    {
      "cell_type": "markdown",
      "source": [
        "### Not human Table"
      ],
      "metadata": {
        "id": "lkXHa2bqoAXr"
      }
    },
    {
      "cell_type": "code",
      "source": [
        "not_human_table_q = \"\"\"\n",
        "WITH txns as (\n",
        "  select\n",
        "    distinct tx_hash,\n",
        "    transaction_fee as tx_fee\n",
        "  from\n",
        "    near.core.fact_transactions b\n",
        "  where\n",
        "    (\n",
        "      tx_receiver = 'v1.nadabot.near'\n",
        "      or tx_signer = 'v1.nadabot.near'\n",
        "      and tx_succeeded = TRUE\n",
        "    )\n",
        "),\n",
        "qmain as (\n",
        "  select\n",
        "    block_timestamp,\n",
        "    ARGS,\n",
        "    b.tx_hash,\n",
        "    signer_id,\n",
        "    ACTION_NAME,\n",
        "    receiver_id,\n",
        "    method_name,\n",
        "    --args,\n",
        "    deposit / 1e24 as deposit\n",
        "  from\n",
        "    near.core.fact_actions_events_function_call b,\n",
        "    txns\n",
        "  where\n",
        "    b.tx_hash = txns.tx_hash\n",
        "),\n",
        "\n",
        "main as (\n",
        "  SELECT\n",
        "    block_timestamp,\n",
        "    signer_id,\n",
        "    receiver_id,\n",
        "    method_name,\n",
        "    deposit,\n",
        "    SPLIT_PART(PARSE_JSON(ARGS) :provider_id, ':', 1) AS contract_address,\n",
        "    SPLIT_PART(PARSE_JSON(ARGS) :provider_id, ':', 2) AS check_type,\n",
        "    COALESCE(TRY_PARSE_JSON(ARGS):provider.default_weight, 0)::INT AS weight\n",
        "  from\n",
        "    qmain\n",
        "  where receiver_id = 'v1.nadabot.near'\n",
        "),\n",
        "\n",
        "threshold as (\n",
        "select TRY_PARSE_JSON(ARGS):default_human_threshold::INT as thresh\n",
        "from qmain\n",
        "where thresh is not null ),\n",
        "\n",
        "not_human_list as (\n",
        "select signer_id,sum(weight) as total_weight\n",
        "from main\n",
        "where method_name = 'verify_stamp_callback'\n",
        "group by signer_id\n",
        "having total_weight < (select thresh from threshold)\n",
        "order by total_weight desc)\n",
        "\n",
        "select m.signer_id,CONCAT(m.contract_address,':',m.check_type) as contactAD_checktype, m.weight\n",
        "from main m\n",
        "where m.signer_id in (select signer_id from not_human_list) and method_name = 'verify_stamp_callback'\n",
        "order by m.signer_id\n",
        "\n",
        "\"\"\"\n",
        "query_result_set = flipside.query(not_human_table_q)\n",
        "query_result_set"
      ],
      "metadata": {
        "id": "YdWaVpomoF39"
      },
      "execution_count": null,
      "outputs": []
    },
    {
      "cell_type": "markdown",
      "source": [
        "### If verified human make donation"
      ],
      "metadata": {
        "id": "Wy4oQ00yoUFx"
      }
    },
    {
      "cell_type": "code",
      "source": [
        "sql = \"\"\"\n",
        "WITH txns as (\n",
        "  select\n",
        "    distinct tx_hash,\n",
        "    transaction_fee as tx_fee\n",
        "  from\n",
        "    near.core.fact_transactions b\n",
        "  where\n",
        "    (\n",
        "      tx_receiver = 'v1.nadabot.near'\n",
        "      or tx_signer = 'v1.nadabot.near'\n",
        "      and tx_succeeded = TRUE\n",
        "    )\n",
        "),\n",
        "qmain as (\n",
        "  select\n",
        "    block_timestamp,\n",
        "    ARGS,\n",
        "    b.tx_hash,\n",
        "    signer_id,\n",
        "    ACTION_NAME,\n",
        "    receiver_id,\n",
        "    method_name,\n",
        "    --args,\n",
        "    deposit / 1e24 as deposit\n",
        "  from\n",
        "    near.core.fact_actions_events_function_call b,\n",
        "    txns\n",
        "  where\n",
        "    b.tx_hash = txns.tx_hash\n",
        "),\n",
        "\n",
        "main as (\n",
        "  SELECT\n",
        "    block_timestamp,\n",
        "    signer_id,\n",
        "    receiver_id,\n",
        "    method_name,\n",
        "    deposit,\n",
        "    SPLIT_PART(PARSE_JSON(ARGS) :provider_id, ':', 1) AS contract_address,\n",
        "    SPLIT_PART(PARSE_JSON(ARGS) :provider_id, ':', 2) AS check_type,\n",
        "    COALESCE(TRY_PARSE_JSON(ARGS):provider.default_weight, 0)::INT AS weight\n",
        "  from\n",
        "    qmain\n",
        "  where receiver_id = 'v1.nadabot.near'\n",
        "),\n",
        "\n",
        "threshold as (\n",
        "select TRY_PARSE_JSON(ARGS):default_human_threshold::INT as thresh\n",
        "from qmain\n",
        "where thresh is not null ),\n",
        "\n",
        "human_list as (\n",
        "select signer_id,sum(weight) as total_weight\n",
        "from main\n",
        "where method_name = 'verify_stamp_callback'\n",
        "group by signer_id\n",
        "having total_weight >= (select thresh from threshold)\n",
        "order by total_weight desc),\n",
        "\n",
        "txns_d as\n",
        "(select  distinct a.tx_hash, transaction_fee as tx_fee\n",
        " from near.core.fact_actions_events_function_call a, near.core.fact_transactions b\n",
        "where receiver_id = 'donate.potlock.near'\n",
        "  and method_name = 'donate'\n",
        "  and a.tx_hash = b.tx_hash\n",
        "  and tx_succeeded = TRUE)\n",
        ",\n",
        "qmain_d as (\n",
        "select  block_timestamp,\n",
        "        signer_id,\n",
        "        receiver_id,\n",
        "        try_parse_json(b.action_data):\"deposit\"::float / 1e24 as deposit,\n",
        "        txns_d.tx_fee::float / 1e24 as tx_fee\n",
        " from near.core.fact_actions_events b, txns_d\n",
        "where b.tx_hash = txns_d.tx_hash\n",
        "  and b.action_name = 'Transfer'\n",
        "  and b.receiver_id <> b.signer_id\n",
        "  and receiver_id <> 'impact.sputnik-dao.near'\n",
        ")\n",
        "\n",
        "select *\n",
        "from qmain_d\n",
        "where qmain_d.signer_id in (select distinct signer_id from human_list)\n",
        "\n",
        "-- select m.signer_id,CONCAT(m.contract_address,':',m.check_type) as contactAD_checktype, m.weight\n",
        "-- from main m\n",
        "-- where m.signer_id in (select signer_id from human_list) and method_name = 'verify_stamp_callback'\n",
        "-- order by m.signer_id\n",
        "\"\"\"\n",
        "query_result_set = flipside.query(sql)"
      ],
      "metadata": {
        "id": "OLVVxGmmoXCN"
      },
      "execution_count": null,
      "outputs": []
    },
    {
      "cell_type": "code",
      "source": [
        "sql = \"\"\"\n",
        "WITH txns as\n",
        "(select  distinct tx_hash, transaction_fee as tx_fee\n",
        " from near.core.fact_transactions b\n",
        "where (tx_receiver = 'v1.nadabot.near'\n",
        "  or   tx_signer = 'v1.nadabot.near'\n",
        "  and tx_succeeded = TRUE))\n",
        ",\n",
        "qmain as (\n",
        "select  block_timestamp,\n",
        "        ARGS,\n",
        "        b.tx_hash,\n",
        "        signer_id,\n",
        "        ACTION_NAME,\n",
        "        receiver_id,\n",
        "        method_name,\n",
        "        --args,\n",
        "        deposit  / 1e24 as deposit\n",
        " from near.core.fact_actions_events_function_call b, txns\n",
        "where b.tx_hash = txns.tx_hash\n",
        "),\n",
        "\n",
        "main as (\n",
        "SELECT\n",
        "    block_timestamp,\n",
        "    signer_id,\n",
        "    receiver_id,\n",
        "    method_name,\n",
        "    deposit,\n",
        "    SPLIT_PART(PARSE_JSON(ARGS):provider_id, ':', 1) AS contract_address,\n",
        "    SPLIT_PART(PARSE_JSON(ARGS):provider_id, ':', 2) AS check_type\n",
        "from qmain),\n",
        "\n",
        "second as (select contract_address,check_type,count(*) as user_count\n",
        "from main\n",
        "where method_name = 'verify_stamp_callback'\n",
        "group by check_type,contract_address\n",
        "order by user_count desc)\n",
        "\n",
        "select *\n",
        "from second\n",
        "where check_type in (select DISTINCT check_type from main where method_name = 'add_stamp')\n",
        "order by user_count DESC\n",
        "\"\"\"\n",
        "query_result_set = flipside.query(sql)"
      ],
      "metadata": {
        "id": "sPgOBCDE-cGW"
      },
      "execution_count": null,
      "outputs": []
    },
    {
      "cell_type": "code",
      "source": [
        "query_result_set"
      ],
      "metadata": {
        "id": "DzNBWRiuALdZ"
      },
      "execution_count": null,
      "outputs": []
    }
  ]
}